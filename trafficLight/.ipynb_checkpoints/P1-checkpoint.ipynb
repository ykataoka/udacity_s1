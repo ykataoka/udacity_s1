{
 "cells": [
  {
   "cell_type": "markdown",
   "metadata": {
    "ein.tags": [
     "worksheet-0"
    ],
    "slideshow": {
     "slide_type": "-"
    }
   },
   "source": [
    "# **Finding Lane Lines on the Road** \n",
    "***\n",
    "In this project, you will use the tools you learned about in the lesson to identify lane lines on the road.  You can develop your pipeline on a series of individual images, and later apply the result to a video stream (really just a series of images). Check out the video clip \"raw-lines-example.mp4\" (also contained in this repository) to see what the output should look like after using the helper functions below. \n",
    "\n",
    "Once you have a result that looks roughly like \"raw-lines-example.mp4\", you'll need to get creative and try to average and/or extrapolate the line segments you've detected to map out the full extent of the lane lines.  You can see an example of the result you're going for in the video \"P1_example.mp4\".  Ultimately, you would like to draw just one line for the left side of the lane, and one for the right.\n",
    "\n",
    "---\n",
    "Let's have a look at our first image called 'test_images/solidWhiteRight.jpg'.  Run the 2 cells below (hit Shift-Enter or the \"play\" button above) to display the image.\n",
    "\n",
    "**Note: If, at any point, you encounter frozen display windows or other confounding issues, you can always start again with a clean slate by going to the \"Kernel\" menu above and selecting \"Restart & Clear Output\".**\n",
    "\n",
    "---"
   ]
  },
  {
   "cell_type": "code",
   "execution_count": 2,
   "metadata": {
    "autoscroll": "json-false",
    "collapsed": false,
    "ein.tags": [
     "worksheet-0"
    ],
    "slideshow": {
     "slide_type": "-"
    }
   },
   "outputs": [],
   "source": []
  },
  {
   "cell_type": "code",
   "execution_count": 2,
   "metadata": {
    "autoscroll": "json-false",
    "collapsed": false,
    "ein.tags": [
     "worksheet-0"
    ],
    "slideshow": {
     "slide_type": "-"
    }
   },
   "outputs": [],
   "source": []
  },
  {
   "cell_type": "code",
   "execution_count": 0,
   "metadata": {
    "autoscroll": "json-false",
    "collapsed": false,
    "ein.tags": [
     "worksheet-0"
    ],
    "slideshow": {
     "slide_type": "-"
    }
   },
   "outputs": [],
   "source": []
  },
  {
   "cell_type": "markdown",
   "metadata": {
    "ein.tags": [
     "worksheet-0"
    ],
    "slideshow": {
     "slide_type": "-"
    }
   },
   "source": [
    "**The tools you have are color selection, region of interest selection, grayscaling, Gaussian smoothing, Canny Edge Detection and Hough Tranform line detection.  You  are also free to explore and try other techniques that were not presented in the lesson.  Your goal is piece together a pipeline to detect the line segments in the image, then average/extrapolate them and draw them onto the image for display (as below).  Once you have a working pipeline, try it out on the video stream below.**\n",
    "\n",
    "---\n",
    "\n",
    "<figure>\n",
    " <img src=\"line-segments-example.jpg\" width=\"380\" alt=\"Combined Image\" />\n",
    " <figcaption>\n",
    " <p></p> \n",
    " <p style=\"text-align: center;\"> Your output should look something like this (above) after detecting line segments using the helper functions below </p> \n",
    " </figcaption>\n",
    "</figure>\n",
    " <p></p> \n",
    "<figure>\n",
    " <img src=\"laneLines_thirdPass.jpg\" width=\"380\" alt=\"Combined Image\" />\n",
    " <figcaption>\n",
    " <p></p> \n",
    " <p style=\"text-align: center;\"> Your goal is to connect/average/extrapolate line segments to get output like this</p> \n",
    " </figcaption>\n",
    "</figure>"
   ]
  },
  {
   "cell_type": "code",
   "execution_count": 0,
   "metadata": {
    "autoscroll": "json-false",
    "collapsed": false,
    "ein.tags": [
     "worksheet-0"
    ],
    "slideshow": {
     "slide_type": "-"
    }
   },
   "outputs": [],
   "source": []
  },
  {
   "cell_type": "markdown",
   "metadata": {
    "ein.tags": [
     "worksheet-0"
    ],
    "slideshow": {
     "slide_type": "-"
    }
   },
   "source": [
    "**Run the cell below to import some packages.  If you get an `import error` for a package you've already installed, try changing your kernel (select the Kernel menu above --> Change Kernel).  Still have problems?  Try relaunching Jupyter Notebook from the terminal prompt.  Also, see [this forum post](https://carnd-forums.udacity.com/cq/viewquestion.action?spaceKey=CAR&id=29496372&questionTitle=finding-lanes---import-cv2-fails-even-though-python-in-the-terminal-window-has-no-problem-with-import-cv2) for more troubleshooting tips.**  "
   ]
  },
  {
   "cell_type": "code",
   "execution_count": 0,
   "metadata": {
    "autoscroll": "json-false",
    "collapsed": false,
    "ein.tags": [
     "worksheet-0"
    ],
    "slideshow": {
     "slide_type": "-"
    }
   },
   "outputs": [],
   "source": []
  },
  {
   "cell_type": "code",
   "execution_count": 3,
   "metadata": {
    "autoscroll": "json-false",
    "collapsed": false,
    "ein.tags": [
     "worksheet-0"
    ],
    "slideshow": {
     "slide_type": "-"
    }
   },
   "outputs": [],
   "source": [
    "#importing some useful packages\n",
    "import matplotlib.pyplot as plt\n",
    "import matplotlib.image as mpimg\n",
    "import numpy as np\n",
    "import cv2\n",
    "%matplotlib inline"
   ]
  },
  {
   "cell_type": "code",
   "execution_count": 0,
   "metadata": {
    "autoscroll": "json-false",
    "collapsed": false,
    "ein.tags": [
     "worksheet-0"
    ],
    "slideshow": {
     "slide_type": "-"
    }
   },
   "outputs": [],
   "source": []
  },
  {
   "cell_type": "code",
   "execution_count": 0,
   "metadata": {
    "autoscroll": "json-false",
    "collapsed": false,
    "ein.tags": [
     "worksheet-0"
    ],
    "slideshow": {
     "slide_type": "-"
    }
   },
   "outputs": [],
   "source": []
  },
  {
   "cell_type": "code",
   "execution_count": 4,
   "metadata": {
    "autoscroll": "json-false",
    "collapsed": false,
    "ein.tags": [
     "worksheet-0"
    ],
    "slideshow": {
     "slide_type": "-"
    }
   },
   "outputs": [
    {
     "ename": "FileNotFoundError",
     "evalue": "[Errno 2] No such file or directory: 'test_images/solidWhiteRight.jpg'",
     "output_type": "error",
     "traceback": [
      "\u001b[0;31m---------------------------------------------------------------------------\u001b[0m",
      "\u001b[0;31mFileNotFoundError\u001b[0m                         Traceback (most recent call last)",
      "\u001b[0;32m<ipython-input-4-1c72c84888f1>\u001b[0m in \u001b[0;36m<module>\u001b[0;34m()\u001b[0m\n\u001b[1;32m      1\u001b[0m \u001b[0;31m#reading in an image\u001b[0m\u001b[0;34m\u001b[0m\u001b[0;34m\u001b[0m\u001b[0m\n\u001b[0;32m----> 2\u001b[0;31m \u001b[0mimage\u001b[0m \u001b[0;34m=\u001b[0m \u001b[0mmpimg\u001b[0m\u001b[0;34m.\u001b[0m\u001b[0mimread\u001b[0m\u001b[0;34m(\u001b[0m\u001b[0;34m'test_images/solidWhiteRight.jpg'\u001b[0m\u001b[0;34m)\u001b[0m\u001b[0;34m\u001b[0m\u001b[0m\n\u001b[0m\u001b[1;32m      3\u001b[0m \u001b[0;31m#printing out some stats and plotting\u001b[0m\u001b[0;34m\u001b[0m\u001b[0;34m\u001b[0m\u001b[0m\n\u001b[1;32m      4\u001b[0m \u001b[0mprint\u001b[0m\u001b[0;34m(\u001b[0m\u001b[0;34m'This image is:'\u001b[0m\u001b[0;34m,\u001b[0m \u001b[0mtype\u001b[0m\u001b[0;34m(\u001b[0m\u001b[0mimage\u001b[0m\u001b[0;34m)\u001b[0m\u001b[0;34m,\u001b[0m \u001b[0;34m'with dimesions:'\u001b[0m\u001b[0;34m,\u001b[0m \u001b[0mimage\u001b[0m\u001b[0;34m.\u001b[0m\u001b[0mshape\u001b[0m\u001b[0;34m)\u001b[0m\u001b[0;34m\u001b[0m\u001b[0m\n\u001b[1;32m      5\u001b[0m \u001b[0mplt\u001b[0m\u001b[0;34m.\u001b[0m\u001b[0mimshow\u001b[0m\u001b[0;34m(\u001b[0m\u001b[0mimage\u001b[0m\u001b[0;34m)\u001b[0m  \u001b[0;31m# if you wanted to show a single color channel image called 'gray', for example, call as plt.imshow(gray, cmap='gray')\u001b[0m\u001b[0;34m\u001b[0m\u001b[0m\n",
      "\u001b[0;32m/Users/Yasu/.pyenv/versions/anaconda3-2.4.0/envs/carnd-term1/lib/python3.5/site-packages/matplotlib/image.py\u001b[0m in \u001b[0;36mimread\u001b[0;34m(fname, format)\u001b[0m\n\u001b[1;32m   1225\u001b[0m \u001b[0;34m\u001b[0m\u001b[0m\n\u001b[1;32m   1226\u001b[0m     \u001b[0;32mif\u001b[0m \u001b[0mext\u001b[0m \u001b[0;32mnot\u001b[0m \u001b[0;32min\u001b[0m \u001b[0mhandlers\u001b[0m\u001b[0;34m:\u001b[0m\u001b[0;34m\u001b[0m\u001b[0m\n\u001b[0;32m-> 1227\u001b[0;31m         \u001b[0mim\u001b[0m \u001b[0;34m=\u001b[0m \u001b[0mpilread\u001b[0m\u001b[0;34m(\u001b[0m\u001b[0mfname\u001b[0m\u001b[0;34m)\u001b[0m\u001b[0;34m\u001b[0m\u001b[0m\n\u001b[0m\u001b[1;32m   1228\u001b[0m         \u001b[0;32mif\u001b[0m \u001b[0mim\u001b[0m \u001b[0;32mis\u001b[0m \u001b[0;32mNone\u001b[0m\u001b[0;34m:\u001b[0m\u001b[0;34m\u001b[0m\u001b[0m\n\u001b[1;32m   1229\u001b[0m             raise ValueError('Only know how to handle extensions: %s; '\n",
      "\u001b[0;32m/Users/Yasu/.pyenv/versions/anaconda3-2.4.0/envs/carnd-term1/lib/python3.5/site-packages/matplotlib/image.py\u001b[0m in \u001b[0;36mpilread\u001b[0;34m(fname)\u001b[0m\n\u001b[1;32m   1203\u001b[0m         \u001b[0;32mexcept\u001b[0m \u001b[0mImportError\u001b[0m\u001b[0;34m:\u001b[0m\u001b[0;34m\u001b[0m\u001b[0m\n\u001b[1;32m   1204\u001b[0m             \u001b[0;32mreturn\u001b[0m \u001b[0;32mNone\u001b[0m\u001b[0;34m\u001b[0m\u001b[0m\n\u001b[0;32m-> 1205\u001b[0;31m         \u001b[0;32mwith\u001b[0m \u001b[0mImage\u001b[0m\u001b[0;34m.\u001b[0m\u001b[0mopen\u001b[0m\u001b[0;34m(\u001b[0m\u001b[0mfname\u001b[0m\u001b[0;34m)\u001b[0m \u001b[0;32mas\u001b[0m \u001b[0mimage\u001b[0m\u001b[0;34m:\u001b[0m\u001b[0;34m\u001b[0m\u001b[0m\n\u001b[0m\u001b[1;32m   1206\u001b[0m             \u001b[0;32mreturn\u001b[0m \u001b[0mpil_to_array\u001b[0m\u001b[0;34m(\u001b[0m\u001b[0mimage\u001b[0m\u001b[0;34m)\u001b[0m\u001b[0;34m\u001b[0m\u001b[0m\n\u001b[1;32m   1207\u001b[0m \u001b[0;34m\u001b[0m\u001b[0m\n",
      "\u001b[0;32m/Users/Yasu/.pyenv/versions/anaconda3-2.4.0/envs/carnd-term1/lib/python3.5/site-packages/PIL/Image.py\u001b[0m in \u001b[0;36mopen\u001b[0;34m(fp, mode)\u001b[0m\n\u001b[1;32m   2310\u001b[0m \u001b[0;34m\u001b[0m\u001b[0m\n\u001b[1;32m   2311\u001b[0m     \u001b[0;32mif\u001b[0m \u001b[0mfilename\u001b[0m\u001b[0;34m:\u001b[0m\u001b[0;34m\u001b[0m\u001b[0m\n\u001b[0;32m-> 2312\u001b[0;31m         \u001b[0mfp\u001b[0m \u001b[0;34m=\u001b[0m \u001b[0mbuiltins\u001b[0m\u001b[0;34m.\u001b[0m\u001b[0mopen\u001b[0m\u001b[0;34m(\u001b[0m\u001b[0mfilename\u001b[0m\u001b[0;34m,\u001b[0m \u001b[0;34m\"rb\"\u001b[0m\u001b[0;34m)\u001b[0m\u001b[0;34m\u001b[0m\u001b[0m\n\u001b[0m\u001b[1;32m   2313\u001b[0m \u001b[0;34m\u001b[0m\u001b[0m\n\u001b[1;32m   2314\u001b[0m     \u001b[0;32mtry\u001b[0m\u001b[0;34m:\u001b[0m\u001b[0;34m\u001b[0m\u001b[0m\n",
      "\u001b[0;31mFileNotFoundError\u001b[0m: [Errno 2] No such file or directory: 'test_images/solidWhiteRight.jpg'"
     ]
    }
   ],
   "source": [
    "#reading in an image\n",
    "image = mpimg.imread('test_images/solidWhiteRight.jpg')\n",
    "#printing out some stats and plotting\n",
    "print('This image is:', type(image), 'with dimesions:', image.shape)\n",
    "plt.imshow(image)  # if you wanted to show a single color channel image called 'gray', for example, call as plt.imshow(gray, cmap='gray')"
   ]
  },
  {
   "cell_type": "code",
   "execution_count": 0,
   "metadata": {
    "autoscroll": "json-false",
    "collapsed": false,
    "ein.tags": [
     "worksheet-0"
    ],
    "slideshow": {
     "slide_type": "-"
    }
   },
   "outputs": [],
   "source": []
  },
  {
   "cell_type": "code",
   "execution_count": 0,
   "metadata": {
    "autoscroll": "json-false",
    "collapsed": false,
    "ein.tags": [
     "worksheet-0"
    ],
    "slideshow": {
     "slide_type": "-"
    }
   },
   "outputs": [],
   "source": []
  },
  {
   "cell_type": "markdown",
   "metadata": {
    "ein.tags": [
     "worksheet-0"
    ],
    "slideshow": {
     "slide_type": "-"
    }
   },
   "source": [
    "**Some OpenCV functions (beyond those introduced in the lesson) that might be useful for this project are:**\n",
    "\n",
    "`cv2.inRange()` for color selection  \n",
    "`cv2.fillPoly()` for regions selection  \n",
    "`cv2.line()` to draw lines on an image given endpoints  \n",
    "`cv2.addWeighted()` to coadd / overlay two images\n",
    "`cv2.cvtColor()` to grayscale or change color\n",
    "`cv2.imwrite()` to output images to file  \n",
    "`cv2.bitwise_and()` to apply a mask to an image\n",
    "\n",
    "**Check out the OpenCV documentation to learn about these and discover even more awesome functionality!**"
   ]
  },
  {
   "cell_type": "markdown",
   "metadata": {
    "ein.tags": [
     "worksheet-0"
    ],
    "slideshow": {
     "slide_type": "-"
    }
   },
   "source": [
    "Below are some helper functions to help get you started. They should look familiar from the lesson!"
   ]
  },
  {
   "cell_type": "code",
   "execution_count": 32,
   "metadata": {
    "autoscroll": "json-false",
    "collapsed": false,
    "ein.tags": [
     "worksheet-0"
    ],
    "slideshow": {
     "slide_type": "-"
    }
   },
   "outputs": [],
   "source": [
    "import math\n",
    "import time\n",
    "def grayscale(img):\n",
    "    \"\"\"Applies the Grayscale transform\n",
    "    This will return an image with only one color channel\n",
    "    but NOTE: to see the returned image as grayscale\n",
    "    (assuming your grayscaled image is called 'gray')\n",
    "    you should call plt.imshow(gray, cmap='gray')\"\"\"\n",
    "    #return cv2.cvtColor(img, cv2.COLOR_RGB2GRAY)\n",
    "    # Or use BGR2GRAY if you read an image with cv2.imread()\n",
    "    return cv2.cvtColor(img, cv2.COLOR_BGR2GRAY)\n",
    "    \n",
    "def canny(img, low_threshold, high_threshold):\n",
    "    \"\"\"Applies the Canny transform\"\"\"\n",
    "    return cv2.Canny(img, low_threshold, high_threshold)\n",
    "\n",
    "def gaussian_blur(img, kernel_size):\n",
    "    \"\"\"Applies a Gaussian Noise kernel\"\"\"\n",
    "    return cv2.GaussianBlur(img, (kernel_size, kernel_size), 0)\n",
    "\n",
    "def region_of_interest(img, vertices):\n",
    "    \"\"\"\n",
    "    Applies an image mask.\n",
    "    \n",
    "    Only keeps the region of the image defined by the polygon\n",
    "    formed from `vertices`. The rest of the image is set to black.\n",
    "    \"\"\"\n",
    "    #defining a blank mask to start with\n",
    "    mask = np.zeros_like(img)   \n",
    "    \n",
    "    #defining a 3 channel or 1 channel color to fill the mask with depending on the input image\n",
    "    if len(img.shape) > 2:\n",
    "        channel_count = img.shape[2]  # i.e. 3 or 4 depending on your image\n",
    "        ignore_mask_color = (255,) * channel_count\n",
    "    else:\n",
    "        ignore_mask_color = 255\n",
    "        \n",
    "    #filling pixels inside the polygon defined by \"vertices\" with the fill color    \n",
    "    cv2.fillPoly(mask, vertices, ignore_mask_color)\n",
    "    \n",
    "    #returning the image only where mask pixels are nonzero\n",
    "    masked_image = cv2.bitwise_and(img, mask)\n",
    "    return masked_image\n",
    "\n",
    "\n",
    "def draw_lines(img, lines, color=[255, 0, 0], thickness=2):\n",
    "    \"\"\"\n",
    "    NOTE: this is the function you might want to use as a starting point once you want to \n",
    "    average/extrapolate the line segments you detect to map out the full\n",
    "    extent of the lane (going from the result shown in raw-lines-example.mp4\n",
    "    to that shown in P1_example.mp4).  \n",
    "    \n",
    "    Think about things like separating line segments by their \n",
    "    slope ((y2-y1)/(x2-x1)) to decide which segments are part of the left\n",
    "    line vs. the right line.  Then, you can average the position of each of \n",
    "    the lines and extrapolate to the top and bottom of the lane.\n",
    "    \n",
    "    This function draws `lines` with `color` and `thickness`.    \n",
    "    Lines are drawn on the image inplace (mutates the image).\n",
    "    If you want to make the lines semi-transparent, think about combining\n",
    "    this function with the weighted_img() function below\n",
    "    \"\"\"\n",
    "    if lines == None:\n",
    "        pass\n",
    "    else:\n",
    "        for line in lines:\n",
    "            for x1,y1,x2,y2 in line:\n",
    "                cv2.line(img, (x1, y1), (x2, y2), color, thickness)\n",
    "\n",
    "def hough_lines(img, rho, theta, threshold, min_line_len, max_line_gap):\n",
    "    \"\"\"\n",
    "    `img` should be the output of a Canny transform.\n",
    "        \n",
    "    Returns an image with hough lines drawn.\n",
    "    \"\"\"\n",
    "    lines = cv2.HoughLinesP(img, rho, theta, threshold, np.array([]), minLineLength=min_line_len, maxLineGap=max_line_gap)\n",
    "    line_img = np.zeros((img.shape[0], img.shape[1], 3), dtype=np.uint8)\n",
    "    draw_lines(line_img, lines)\n",
    "#   cv2.imwrite('houghlines3.jpg',img)\n",
    "    \n",
    "    return line_img\n",
    "\n",
    "def hough_lines2(img, rho, theta, threshold):\n",
    "    \"\"\"\n",
    "    `img` should be the output of a Canny transform.\n",
    "        \n",
    "    Returns an image with hough lines drawn.\n",
    "    \"\"\"\n",
    "    \n",
    "    # added the hough lines by rho and theta, prepare for the blank display\n",
    "    lines2 = cv2.HoughLines(img, rho, theta, threshold)\n",
    "    line_img = np.zeros((img.shape[0], img.shape[1], 3), dtype=np.uint8)\n",
    " \n",
    "    # write lines where (rho, theta)  > threshold\n",
    "    if lines2 == None:\n",
    "        return line_img\n",
    "    \n",
    "    for data in lines2:\n",
    "        rho,theta = data[0]\n",
    "        a = np.cos(theta)\n",
    "        b = np.sin(theta)\n",
    "        x0 = a*rho\n",
    "        y0 = b*rho\n",
    "        x1 = int(x0 + 1000*(-b))\n",
    "        y1 = int(y0 + 1000*(a))\n",
    "        x2 = int(x0 - 1000*(-b))\n",
    "        y2 = int(y0 - 1000*(a))\n",
    "        cv2.line(line_img,(x1,y1),(x2,y2),(0,0,255),2)\n",
    "    \n",
    "    return line_img\n",
    "\n",
    "# Python 3 has support for cool math symbols.\n",
    "\n",
    "def weighted_img(img, initial_img, α=0.8, β=1., λ=0.):\n",
    "    \"\"\"\n",
    "    `img` is the output of the hough_lines(), An image with lines drawn on it.\n",
    "    Should be a blank image (all black) with lines drawn on it.\n",
    "    \n",
    "    `initial_img` should be the image before any processing.\n",
    "    \n",
    "    The result image is computed as follows:\n",
    "    \n",
    "    initial_img * α + img * β + λ\n",
    "    NOTE: initial_img and img must be the same shape!\n",
    "    \"\"\"\n",
    "    return cv2.addWeighted(initial_img, α, img, β, λ)"
   ]
  },
  {
   "cell_type": "markdown",
   "metadata": {
    "ein.tags": [
     "worksheet-0"
    ],
    "slideshow": {
     "slide_type": "-"
    }
   },
   "source": [
    "## Test on Images\n",
    "\n",
    "Now you should build your pipeline to work on the images in the directory \"test_images\"  \n",
    "**You should make sure your pipeline works well on these images before you try the videos.**"
   ]
  },
  {
   "cell_type": "code",
   "execution_count": 33,
   "metadata": {
    "autoscroll": "json-false",
    "collapsed": false,
    "ein.tags": [
     "worksheet-0"
    ],
    "slideshow": {
     "slide_type": "-"
    }
   },
   "outputs": [
    {
     "data": {
      "text/plain": [
       "['solidWhiteCurve.jpg',\n 'solidWhiteRight.jpg',\n 'solidYellowCurve.jpg',\n 'solidYellowCurve2.jpg',\n 'solidYellowLeft.jpg',\n 'whiteCarLaneSwitch.jpg']"
      ]
     },
     "execution_count": 33,
     "metadata": {},
     "output_type": "execute_result"
    }
   ],
   "source": [
    "import os\n",
    "#import glob\n",
    "os.system('rm -f test_images/*_*')\n",
    "os.listdir(\"test_images/\")"
   ]
  },
  {
   "cell_type": "markdown",
   "metadata": {
    "ein.tags": [
     "worksheet-0"
    ],
    "slideshow": {
     "slide_type": "-"
    }
   },
   "source": [
    "run your solution on all test_images and make copies into the test_images directory)."
   ]
  },
  {
   "cell_type": "code",
   "execution_count": 34,
   "metadata": {
    "autoscroll": "json-false",
    "collapsed": false,
    "ein.tags": [
     "worksheet-0"
    ],
    "slideshow": {
     "slide_type": "-"
    }
   },
   "outputs": [
    {
     "data": {
      "text/plain": [
       "<matplotlib.image.AxesImage at 0x1427cee48>"
      ]
     },
     "execution_count": 34,
     "metadata": {},
     "output_type": "execute_result"
    },
    {
     "data": {
      "image/png": "[encoded data removed]",
      "text/plain": [
       "<matplotlib.figure.Figure at 0x11223a3c8>"
      ]
     },
     "metadata": {},
     "output_type": "display_data"
    }
   ],
   "source": [
    "# TODO: Build your pipeline that will draw lane lines on the test_images\n",
    "# then save them to the test_images directory.\n",
    "\n",
    "\n",
    "\n",
    "# set paramer\n",
    "imshape = image.shape\n",
    "xsize = imshape[1]\n",
    "ysize = imshape[0]\n",
    "plt.imshow(image)"
   ]
  },
  {
   "cell_type": "code",
   "execution_count": 35,
   "metadata": {
    "autoscroll": "json-false",
    "collapsed": false,
    "ein.tags": [
     "worksheet-0"
    ],
    "slideshow": {
     "slide_type": "-"
    }
   },
   "outputs": [
    {
     "data": {
      "image/png": "[encoded data removed]",
      "text/plain": [
       "<matplotlib.figure.Figure at 0x1158f3940>"
      ]
     },
     "metadata": {},
     "output_type": "display_data"
    }
   ],
   "source": [
    "def lineDetection(filepath, image):\n",
    "    # change to gray scale\n",
    "    gray = grayscale(image)\n",
    "    #plt.imshow(gray, cmap='gray')\n",
    "\n",
    "    # bluring\n",
    "    blur = gaussian_blur(gray, 7)\n",
    "    #plt.imshow(gray, cmap='gray')\n",
    "\n",
    "    # edge detection\n",
    "    low_threshold = 40\n",
    "    high_threshold = 100\n",
    "    edge = canny(blur, low_threshold, high_threshold)\n",
    "    #plt.imshow(edge, cmap='gray')\n",
    "\n",
    "    # masking\n",
    "    y = ysize + 50\n",
    "    vertices = np.array([[ (0,y), (xsize/2-10, y/2), (xsize/2+10, y/2), (xsize, y) ]], dtype=np.int32)\n",
    "    mask = region_of_interest(edge, vertices)\n",
    "    #plt.imshow(mask, cmap='gray')\n",
    "\n",
    "    # lines1 connecting lines by hough transformation\n",
    "    rho   = 1                         # distance resolution in pixels of the Hough grid\n",
    "    theta = 1*np.pi/180    # angular resolution in radians of the Hough grid\n",
    "    threshold = 50              # minimum number of votes (intersections in Hough grid cell)\n",
    "    min_line_len = 30        # minimum number of pixels making up a line\n",
    "    max_line_gap = 10      # maximum gap in pixels between connectable line segments\n",
    "    line_image1 = hough_lines(mask, rho, theta, threshold, min_line_len, max_line_gap)\n",
    "    plt.imshow(line_image1, cmap='gray')\n",
    "\n",
    "    # lines2 determined by rho and theta by hough transformation\n",
    "    rho   = 1                         # distance resolution in pixels of the Hough grid\n",
    "    theta = 1*np.pi/180    # angular resolution in radians of the Hough grid\n",
    "    threshold = 50              # minimum number of votes (intersections in Hough grid cell)\n",
    "    line_image2 = hough_lines2(mask, rho, theta, threshold)\n",
    "    line_image2 = region_of_interest(line_image2, vertices)\n",
    "    plt.imshow(line_image2)\n",
    "\n",
    "    #plt.imshow(line_image, cmap='gray')\n",
    "\n",
    "#    threshold = 2                # minimum number of votes (intersections in Hough grid cell)\n",
    "#  min_line_len = 40  # minimum number of pixels making up a line\n",
    "#   max_line_gap = 20      # maximum gap in pixels between connectable line segments\n",
    "#   line_image = hough_lines(mask, rho, theta, threshold, min_line_len, max_line_gap)\n",
    "    \n",
    "    \n",
    "    # overlay the analyzed data on original image\n",
    "    #    w_img = weighted_img(line_image1, image, α=0.8, β=1., λ=0.)\n",
    "    w_img = weighted_img(line_image2, image, α=0.8, β=1., λ=0.)\n",
    "    #    plt.imshow(w_img)\n",
    "\n",
    "    # write to external file\n",
    "    cv2.imwrite(filepath[:-4] + '_line' + filepath[-4:], w_img)    \n",
    "    return w_img\n",
    "\n",
    "# check all the test data\n",
    "header = \"test_images/\"\n",
    "datas = os.listdir(header)\n",
    "for path in datas:\n",
    "    filepath = header + path\n",
    "    image = mpimg.imread(filepath)\n",
    "    lineDetection(filepath, image)"
   ]
  },
  {
   "cell_type": "code",
   "execution_count": 0,
   "metadata": {
    "autoscroll": "json-false",
    "collapsed": false,
    "ein.tags": [
     "worksheet-0"
    ],
    "slideshow": {
     "slide_type": "-"
    }
   },
   "outputs": [],
   "source": []
  },
  {
   "cell_type": "markdown",
   "metadata": {
    "ein.tags": [
     "worksheet-0"
    ],
    "slideshow": {
     "slide_type": "-"
    }
   },
   "source": [
    "## Test on Videos\n",
    "\n",
    "You know what's cooler than drawing lanes over images? Drawing lanes over video!\n",
    "\n",
    "We can test our solution on two provided videos:\n",
    "\n",
    "`solidWhiteRight.mp4`\n",
    "\n",
    "`solidYellowLeft.mp4`\n",
    "\n",
    "**Note: if you get an `import error` when you run the next cell, try changing your kernel (select the Kernel menu above --> Change Kernel).  Still have problems?  Try relaunching Jupyter Notebook from the terminal prompt. Also, check out [this forum post](https://carnd-forums.udacity.com/questions/22677062/answers/22677109) for more troubleshooting tips.**\n",
    "\n",
    "**If you get an error that looks like this:**\n",
    "```\n",
    "NeedDownloadError: Need ffmpeg exe. \n",
    "You can download it by calling: \n",
    "imageio.plugins.ffmpeg.download()\n",
    "```\n",
    "**Follow the instructions in the error message and check out [this forum post](https://carnd-forums.udacity.com/display/CAR/questions/26218840/import-videofileclip-error) for more troubleshooting tips across operating systems.**"
   ]
  },
  {
   "cell_type": "code",
   "execution_count": 36,
   "metadata": {
    "autoscroll": "json-false",
    "collapsed": false,
    "ein.tags": [
     "worksheet-0"
    ],
    "slideshow": {
     "slide_type": "-"
    }
   },
   "outputs": [],
   "source": [
    "# Import everything needed to edit/save/watch video clips\n",
    "from moviepy.editor import VideoFileClip\n",
    "from IPython.display import HTML"
   ]
  },
  {
   "cell_type": "code",
   "execution_count": 43,
   "metadata": {
    "autoscroll": "json-false",
    "collapsed": false,
    "ein.tags": [
     "worksheet-0"
    ],
    "slideshow": {
     "slide_type": "-"
    }
   },
   "outputs": [],
   "source": [
    "def process_image(image):\n",
    "    # NOTE: The output you return should be a color image (3 channel) for processing video below\n",
    "    # TODO: put your pipeline here, mostly copied from above\n",
    "\n",
    "    # set paramer\n",
    "    imshape = image.shape\n",
    "    xsize = imshape[1]\n",
    "    ysize = imshape[0]\n",
    "    \n",
    "    # change to gray scale\n",
    "    gray = grayscale(image)\n",
    "\n",
    "    # bluring\n",
    "    blur = gaussian_blur(gray, 7)\n",
    "\n",
    "    # edge detection\n",
    "    low_threshold = 20\n",
    "    high_threshold = 150\n",
    "    edge = canny(blur, low_threshold, high_threshold)\n",
    "    \n",
    "    # masking\n",
    "    y = ysize + 80\n",
    "    vertices = np.array([[ (0,y), (xsize/2-10, y/2), (xsize/2+10, y/2), (xsize, y) ]], dtype=np.int32)\n",
    "    mask = region_of_interest(edge, vertices)\n",
    "\n",
    "    # lines1 connecting lines by hough transformation\n",
    "    rho   = 1                         # distance resolution in pixels of the Hough grid\n",
    "    theta = 1*np.pi/180    # angular resolution in radians of the Hough grid\n",
    "    threshold = 10                # minimum number of votes (intersections in Hough grid cell)\n",
    "    min_line_len = 30  # minimum number of pixels making up a line\n",
    "    max_line_gap = 5      # maximum gap in pixels between connectable line segments\n",
    "    line_image1 = hough_lines(mask, rho, theta, threshold, min_line_len, max_line_gap)\n",
    "    plt.imshow(line_image1, cmap='gray')\n",
    "\n",
    "    # lines2 determined by rho and theta by hough transformation\n",
    "    rho   = 1                         # distance resolution in pixels of the Hough grid\n",
    "    theta = 1*np.pi/180    # angular resolution in radians of the Hough grid\n",
    "    threshold = 30              # minimum number of votes (intersections in Hough grid cell)\n",
    "    line_image2 = hough_lines2(mask, rho, theta, threshold)\n",
    "    line_image2 = region_of_interest(line_image2, vertices)\n",
    "    plt.imshow(line_image2)\n",
    "\n",
    "    #plt.imshow(line_image, cmap='gray')\n",
    "    #    threshold = 2                # minimum number of votes (intersections in Hough grid cell)\n",
    "    #  min_line_len = 40  # minimum number of pixels making up a line\n",
    "    #   max_line_gap = 20      # maximum gap in pixels between connectable line segments\n",
    "    #   line_image = hough_lines(mask, rho, theta, threshold, min_line_len, max_line_gap)\n",
    "    \n",
    "    # overlay the analyzed data on original image\n",
    "    #    w_img = weighted_img(line_image1, image, α=0.8, β=1., λ=0.)\n",
    "    w_img = weighted_img(line_image2, image, α=0.8, β=1., λ=0.)\n",
    "    #    plt.imshow(w_img)\n",
    "\n",
    "    return w_img\n"
   ]
  },
  {
   "cell_type": "markdown",
   "metadata": {
    "ein.tags": [
     "worksheet-0"
    ],
    "slideshow": {
     "slide_type": "-"
    }
   },
   "source": [
    "Let's try the one with the solid white lane on the right first ...\n"
   ]
  },
  {
   "cell_type": "code",
   "execution_count": 44,
   "metadata": {
    "autoscroll": "json-false",
    "collapsed": false,
    "ein.tags": [
     "worksheet-0"
    ],
    "slideshow": {
     "slide_type": "-"
    }
   },
   "outputs": [
    {
     "name": "stdout",
     "output_type": "stream",
     "text": [
      "[MoviePy] >>>> Building video white.mp4\n",
      "[MoviePy] Writing video white.mp4\n"
     ]
    },
    {
     "name": "stdout",
     "output_type": "stream",
     "text": [
      "\n",
      "\n",
      "  0%|          | 0/222 [00:00<?, ?it/s]\u001b[A\u001b[A\n",
      "\n",
      "  1%|          | 2/222 [00:00<00:16, 13.37it/s]\u001b[A\u001b[A\n",
      "\n",
      "  2%|▏         | 4/222 [00:00<00:15, 14.23it/s]\u001b[A\u001b[A\n",
      "\n",
      "  3%|▎         | 6/222 [00:00<00:14, 14.69it/s]\u001b[A\u001b[A\n",
      "\n",
      "  4%|▎         | 8/222 [00:00<00:13, 15.45it/s]\u001b[A\u001b[A\n",
      "\n",
      "  5%|▍         | 10/222 [00:00<00:13, 15.92it/s]\u001b[A\u001b[A\n",
      "\n",
      "  5%|▌         | 12/222 [00:00<00:12, 16.18it/s]\u001b[A\u001b[A\n",
      "\n",
      "  6%|▋         | 14/222 [00:00<00:12, 16.29it/s]\u001b[A\u001b[A\n",
      "\n",
      "  7%|▋         | 16/222 [00:00<00:12, 16.37it/s]\u001b[A\u001b[A\n",
      "\n",
      "  8%|▊         | 18/222 [00:01<00:12, 15.87it/s]\u001b[A\u001b[A\n",
      "\n",
      "  9%|▉         | 20/222 [00:01<00:12, 16.31it/s]\u001b[A\u001b[A\n",
      "\n",
      " 10%|▉         | 22/222 [00:01<00:11, 16.71it/s]\u001b[A\u001b[A\n",
      "\n",
      " 11%|█         | 24/222 [00:01<00:11, 17.14it/s]\u001b[A\u001b[A\n",
      "\n",
      " 12%|█▏        | 26/222 [00:01<00:11, 17.36it/s]\u001b[A\u001b[A\n",
      "\n",
      " 13%|█▎        | 28/222 [00:01<00:11, 17.50it/s]\u001b[A\u001b[A\n",
      "\n",
      " 14%|█▎        | 30/222 [00:01<00:10, 17.81it/s]\u001b[A\u001b[A\n",
      "\n",
      " 14%|█▍        | 32/222 [00:01<00:10, 17.92it/s]\u001b[A\u001b[A\n",
      "\n",
      " 15%|█▌        | 34/222 [00:02<00:10, 18.02it/s]\u001b[A\u001b[A\n",
      "\n",
      " 16%|█▌        | 36/222 [00:02<00:10, 17.37it/s]\u001b[A\u001b[A\n",
      "\n",
      " 17%|█▋        | 38/222 [00:02<00:10, 17.35it/s]\u001b[A\u001b[A\n",
      "\n",
      " 18%|█▊        | 40/222 [00:02<00:10, 17.43it/s]\u001b[A\u001b[A\n",
      "\n",
      " 19%|█▉        | 42/222 [00:02<00:11, 16.27it/s]\u001b[A\u001b[A\n",
      "\n",
      " 20%|█▉        | 44/222 [00:02<00:13, 12.87it/s]\u001b[A\u001b[A\n",
      "\n",
      " 21%|██        | 46/222 [00:02<00:14, 12.25it/s]\u001b[A\u001b[A\n",
      "\n",
      " 22%|██▏       | 48/222 [00:03<00:14, 12.43it/s]\u001b[A\u001b[A\n",
      "\n",
      " 23%|██▎       | 50/222 [00:03<00:12, 13.55it/s]\u001b[A\u001b[A\n",
      "\n",
      " 23%|██▎       | 52/222 [00:03<00:11, 14.41it/s]\u001b[A\u001b[A\n",
      "\n",
      " 24%|██▍       | 54/222 [00:03<00:11, 15.27it/s]\u001b[A\u001b[A\n",
      "\n",
      " 25%|██▌       | 56/222 [00:03<00:10, 15.96it/s]\u001b[A\u001b[A\n",
      "\n",
      " 26%|██▌       | 58/222 [00:03<00:10, 16.33it/s]\u001b[A\u001b[A\n",
      "\n",
      " 27%|██▋       | 60/222 [00:03<00:09, 16.41it/s]\u001b[A\u001b[A\n",
      "\n",
      " 28%|██▊       | 62/222 [00:03<00:09, 16.35it/s]\u001b[A\u001b[A\n",
      "\n",
      " 29%|██▉       | 64/222 [00:04<00:09, 16.75it/s]\u001b[A\u001b[A\n",
      "\n",
      " 30%|██▉       | 66/222 [00:04<00:09, 15.71it/s]\u001b[A\u001b[A\n",
      "\n",
      " 31%|███       | 68/222 [00:04<00:11, 12.97it/s]\u001b[A\u001b[A\n",
      "\n",
      " 32%|███▏      | 70/222 [00:05<00:31,  4.80it/s]\u001b[A\u001b[A\n",
      "\n",
      " 32%|███▏      | 72/222 [00:05<00:24,  6.18it/s]\u001b[A\u001b[A\n",
      "\n",
      " 33%|███▎      | 74/222 [00:05<00:19,  7.73it/s]\u001b[A\u001b[A\n",
      "\n",
      " 34%|███▍      | 76/222 [00:05<00:15,  9.42it/s]\u001b[A\u001b[A\n",
      "\n",
      " 35%|███▌      | 78/222 [00:05<00:13, 11.01it/s]\u001b[A\u001b[A\n",
      "\n",
      " 36%|███▌      | 80/222 [00:05<00:11, 12.40it/s]\u001b[A\u001b[A\n",
      "\n",
      " 37%|███▋      | 82/222 [00:06<00:10, 13.52it/s]\u001b[A\u001b[A\n",
      "\n",
      " 38%|███▊      | 84/222 [00:06<00:09, 14.36it/s]\u001b[A\u001b[A\n",
      "\n",
      " 39%|███▊      | 86/222 [00:06<00:08, 15.27it/s]\u001b[A\u001b[A\n",
      "\n",
      " 40%|███▉      | 88/222 [00:06<00:08, 15.94it/s]\u001b[A\u001b[A\n",
      "\n",
      " 41%|████      | 90/222 [00:06<00:07, 16.72it/s]\u001b[A\u001b[A\n",
      "\n",
      " 41%|████▏     | 92/222 [00:06<00:07, 17.23it/s]\u001b[A\u001b[A\n",
      "\n",
      " 42%|████▏     | 94/222 [00:06<00:07, 17.65it/s]\u001b[A\u001b[A\n",
      "\n",
      " 43%|████▎     | 96/222 [00:06<00:07, 17.85it/s]\u001b[A\u001b[A\n",
      "\n",
      " 44%|████▍     | 98/222 [00:06<00:07, 15.81it/s]\u001b[A\u001b[A\n",
      "\n",
      " 45%|████▌     | 100/222 [00:07<00:09, 13.13it/s]\u001b[A\u001b[A\n",
      "\n",
      " 46%|████▌     | 102/222 [00:07<00:10, 11.86it/s]\u001b[A\u001b[A\n",
      "\n",
      " 47%|████▋     | 104/222 [00:07<00:11, 10.52it/s]\u001b[A\u001b[A\n",
      "\n",
      " 48%|████▊     | 106/222 [00:07<00:11, 10.06it/s]\u001b[A\u001b[A\n",
      "\n",
      " 49%|████▊     | 108/222 [00:08<00:10, 10.89it/s]\u001b[A\u001b[A\n",
      "\n",
      " 50%|████▉     | 110/222 [00:08<00:09, 12.12it/s]\u001b[A\u001b[A\n",
      "\n",
      " 50%|█████     | 112/222 [00:08<00:08, 13.47it/s]\u001b[A\u001b[A\n",
      "\n",
      " 51%|█████▏    | 114/222 [00:08<00:07, 14.11it/s]\u001b[A\u001b[A\n",
      "\n",
      " 52%|█████▏    | 116/222 [00:08<00:07, 14.92it/s]\u001b[A\u001b[A\n",
      "\n",
      " 53%|█████▎    | 118/222 [00:08<00:07, 14.08it/s]\u001b[A\u001b[A\n",
      "\n",
      " 54%|█████▍    | 120/222 [00:08<00:07, 12.81it/s]\u001b[A\u001b[A\n",
      "\n",
      " 55%|█████▍    | 122/222 [00:09<00:08, 12.23it/s]\u001b[A\u001b[A\n",
      "\n",
      " 56%|█████▌    | 124/222 [00:09<00:07, 12.40it/s]\u001b[A\u001b[A\n",
      "\n",
      " 57%|█████▋    | 126/222 [00:09<00:07, 12.38it/s]\u001b[A\u001b[A\n",
      "\n",
      " 58%|█████▊    | 128/222 [00:09<00:06, 13.66it/s]\u001b[A\u001b[A\n",
      "\n",
      " 59%|█████▊    | 130/222 [00:09<00:06, 15.07it/s]\u001b[A\u001b[A\n",
      "\n",
      " 59%|█████▉    | 132/222 [00:09<00:05, 15.79it/s]\u001b[A\u001b[A\n",
      "\n",
      " 60%|██████    | 134/222 [00:09<00:05, 16.10it/s]\u001b[A\u001b[A\n",
      "\n",
      " 61%|██████▏   | 136/222 [00:09<00:05, 15.24it/s]\u001b[A\u001b[A\n",
      "\n",
      " 62%|██████▏   | 138/222 [00:10<00:06, 13.92it/s]\u001b[A\u001b[A\n",
      "\n",
      " 63%|██████▎   | 140/222 [00:10<00:05, 15.05it/s]\u001b[A\u001b[A\n",
      "\n",
      " 64%|██████▍   | 142/222 [00:10<00:05, 15.92it/s]\u001b[A\u001b[A\n",
      "\n",
      " 65%|██████▍   | 144/222 [00:10<00:04, 16.38it/s]\u001b[A\u001b[A\n",
      "\n",
      " 66%|██████▌   | 146/222 [00:10<00:04, 16.61it/s]\u001b[A\u001b[A\n",
      "\n",
      " 67%|██████▋   | 148/222 [00:10<00:04, 17.40it/s]\u001b[A\u001b[A\n",
      "\n",
      " 68%|██████▊   | 150/222 [00:10<00:04, 17.74it/s]\u001b[A\u001b[A\n",
      "\n",
      " 68%|██████▊   | 152/222 [00:10<00:04, 17.45it/s]\u001b[A\u001b[A\n",
      "\n",
      " 69%|██████▉   | 154/222 [00:10<00:03, 18.12it/s]\u001b[A\u001b[A\n",
      "\n",
      " 70%|███████   | 156/222 [00:11<00:03, 18.50it/s]\u001b[A\u001b[A\n",
      "\n",
      " 71%|███████   | 158/222 [00:11<00:03, 18.92it/s]\u001b[A\u001b[A\n",
      "\n",
      " 72%|███████▏  | 160/222 [00:11<00:03, 16.84it/s]\u001b[A\u001b[A\n",
      "\n",
      " 73%|███████▎  | 162/222 [00:11<00:04, 14.94it/s]\u001b[A\u001b[A\n",
      "\n",
      " 74%|███████▍  | 164/222 [00:11<00:04, 14.36it/s]\u001b[A\u001b[A\n",
      "\n",
      " 75%|███████▍  | 166/222 [00:11<00:04, 13.45it/s]\u001b[A\u001b[A\n",
      "\n",
      " 76%|███████▌  | 168/222 [00:11<00:03, 14.74it/s]\u001b[A\u001b[A\n",
      "\n",
      " 77%|███████▋  | 170/222 [00:12<00:03, 15.51it/s]\u001b[A\u001b[A\n",
      "\n",
      " 77%|███████▋  | 172/222 [00:12<00:03, 16.22it/s]\u001b[A\u001b[A\n",
      "\n",
      " 78%|███████▊  | 174/222 [00:12<00:02, 16.38it/s]\u001b[A\u001b[A\n",
      "\n",
      " 79%|███████▉  | 176/222 [00:12<00:02, 15.83it/s]\u001b[A\u001b[A\n",
      "\n",
      " 80%|████████  | 178/222 [00:12<00:03, 14.38it/s]\u001b[A\u001b[A\n",
      "\n",
      " 81%|████████  | 180/222 [00:12<00:02, 15.69it/s]\u001b[A\u001b[A\n",
      "\n",
      " 82%|████████▏ | 182/222 [00:12<00:02, 16.71it/s]\u001b[A\u001b[A\n",
      "\n",
      " 83%|████████▎ | 184/222 [00:12<00:02, 17.33it/s]\u001b[A\u001b[A\n",
      "\n",
      " 84%|████████▍ | 186/222 [00:12<00:02, 17.94it/s]\u001b[A\u001b[A\n",
      "\n",
      " 85%|████████▍ | 188/222 [00:13<00:01, 17.85it/s]\u001b[A\u001b[A\n",
      "\n",
      " 86%|████████▌ | 190/222 [00:13<00:01, 18.39it/s]\u001b[A\u001b[A\n",
      "\n",
      " 86%|████████▋ | 192/222 [00:13<00:01, 18.19it/s]\u001b[A\u001b[A\n",
      "\n",
      " 87%|████████▋ | 194/222 [00:13<00:01, 18.54it/s]\u001b[A\u001b[A\n",
      "\n",
      " 88%|████████▊ | 196/222 [00:13<00:01, 18.38it/s]\u001b[A\u001b[A\n",
      "\n",
      " 89%|████████▉ | 198/222 [00:13<00:01, 17.18it/s]\u001b[A\u001b[A\n",
      "\n",
      " 90%|█████████ | 200/222 [00:13<00:01, 15.82it/s]\u001b[A\u001b[A\n",
      "\n",
      " 91%|█████████ | 202/222 [00:13<00:01, 14.26it/s]\u001b[A\u001b[A\n",
      "\n",
      " 92%|█████████▏| 204/222 [00:14<00:01, 15.38it/s]\u001b[A\u001b[A\n",
      "\n",
      " 93%|█████████▎| 206/222 [00:14<00:00, 16.50it/s]\u001b[A\u001b[A\n",
      "\n",
      " 94%|█████████▎| 208/222 [00:14<00:00, 16.96it/s]\u001b[A\u001b[A\n",
      "\n",
      " 95%|█████████▍| 210/222 [00:14<00:00, 17.26it/s]\u001b[A\u001b[A\n",
      "\n",
      " 95%|█████████▌| 212/222 [00:14<00:00, 16.64it/s]\u001b[A\u001b[A\n",
      "\n",
      " 96%|█████████▋| 214/222 [00:14<00:00, 15.37it/s]\u001b[A\u001b[A\n",
      "\n",
      " 97%|█████████▋| 216/222 [00:14<00:00, 16.38it/s]\u001b[A\u001b[A\n",
      "\n",
      " 98%|█████████▊| 218/222 [00:14<00:00, 17.20it/s]\u001b[A\u001b[A\n",
      "\n",
      " 99%|█████████▉| 220/222 [00:15<00:00, 17.39it/s]\u001b[A\u001b[A\n",
      "\n",
      "100%|█████████▉| 221/222 [00:15<00:00, 14.66it/s]\u001b[A\u001b[A"
     ]
    },
    {
     "name": "stdout",
     "output_type": "stream",
     "text": [
      "[MoviePy] Done.\n",
      "[MoviePy] >>>> Video ready: white.mp4 \n",
      "\n",
      "CPU times: user 12.8 s, sys: 2.63 s, total: 15.4 s\n",
      "Wall time: 15.8 s\n"
     ]
    },
    {
     "data": {
      "image/png": "[encoded data removed]",
      "text/plain": [
       "<matplotlib.figure.Figure at 0x1428730f0>"
      ]
     },
     "metadata": {},
     "output_type": "display_data"
    }
   ],
   "source": [
    "white_output = 'white.mp4'\n",
    "clip1 = VideoFileClip(\"solidWhiteRight.mp4\")\n",
    "white_clip = clip1.fl_image(process_image) #NOTE: this function expects color images!!\n",
    "%time white_clip.write_videofile(white_output, audio=False)"
   ]
  },
  {
   "cell_type": "markdown",
   "metadata": {
    "ein.tags": [
     "worksheet-0"
    ],
    "slideshow": {
     "slide_type": "-"
    }
   },
   "source": [
    "Play the video inline, or if you prefer find the video in your filesystem (should be in the same directory) and play it in your video player of choice."
   ]
  },
  {
   "cell_type": "code",
   "execution_count": 45,
   "metadata": {
    "autoscroll": "json-false",
    "collapsed": false,
    "ein.tags": [
     "worksheet-0"
    ],
    "slideshow": {
     "slide_type": "-"
    }
   },
   "outputs": [
    {
     "data": {
      "text/html": [
       "\n<video width=\"960\" height=\"540\" controls>\n  <source src=\"white.mp4\">\n</video>\ntext/plain<IPython.core.display.HTML object>"
      ]
     },
     "execution_count": 45,
     "metadata": {},
     "output_type": "execute_result"
    }
   ],
   "source": [
    "HTML(\"\"\"\n",
    "<video width=\"960\" height=\"540\" controls>\n",
    "  <source src=\"{0}\">\n",
    "</video>\n",
    "\"\"\".format(white_output))"
   ]
  },
  {
   "cell_type": "markdown",
   "metadata": {
    "ein.tags": [
     "worksheet-0"
    ],
    "slideshow": {
     "slide_type": "-"
    }
   },
   "source": [
    "**At this point, if you were successful you probably have the Hough line segments drawn onto the road, but what about identifying the full extent of the lane and marking it clearly as in the example video (P1_example.mp4)?  Think about defining a line to run the full length of the visible lane based on the line segments you identified with the Hough Transform.  Modify your draw_lines function accordingly and try re-running your pipeline.**"
   ]
  },
  {
   "cell_type": "markdown",
   "metadata": {
    "ein.tags": [
     "worksheet-0"
    ],
    "slideshow": {
     "slide_type": "-"
    }
   },
   "source": [
    "Now for the one with the solid yellow lane on the left. This one's more tricky!"
   ]
  },
  {
   "cell_type": "code",
   "execution_count": 11,
   "metadata": {
    "autoscroll": "json-false",
    "collapsed": false,
    "ein.tags": [
     "worksheet-0"
    ],
    "slideshow": {
     "slide_type": "-"
    }
   },
   "outputs": [
    {
     "name": "stdout",
     "output_type": "stream",
     "text": [
      "[MoviePy] >>>> Building video yellow.mp4\n",
      "[MoviePy] Writing video yellow.mp4\n"
     ]
    },
    {
     "name": "stdout",
     "output_type": "stream",
     "text": [
      "100%|█████████▉| 681/682 [00:36<00:00, 19.74it/s]\n"
     ]
    },
    {
     "name": "stdout",
     "output_type": "stream",
     "text": [
      "[MoviePy] Done.\n",
      "[MoviePy] >>>> Video ready: yellow.mp4 \n",
      "\n",
      "CPU times: user 33.4 s, sys: 5.3 s, total: 38.7 s\n",
      "Wall time: 37.3 s\n"
     ]
    },
    {
     "data": {
      "image/png": "[encoded data removed]",
      "text/plain": [
       "<matplotlib.figure.Figure at 0x1222e10f0>"
      ]
     },
     "metadata": {},
     "output_type": "display_data"
    }
   ],
   "source": [
    "yellow_output = 'yellow.mp4'\n",
    "clip2 = VideoFileClip('solidYellowLeft.mp4')\n",
    "yellow_clip = clip2.fl_image(process_image)\n",
    "%time yellow_clip.write_videofile(yellow_output, audio=False)"
   ]
  },
  {
   "cell_type": "code",
   "execution_count": 12,
   "metadata": {
    "autoscroll": "json-false",
    "collapsed": false,
    "ein.tags": [
     "worksheet-0"
    ],
    "slideshow": {
     "slide_type": "-"
    }
   },
   "outputs": [
    {
     "data": {
      "text/html": [
       "\n<video width=\"960\" height=\"540\" controls>\n  <source src=\"yellow.mp4\">\n</video>\ntext/plain<IPython.core.display.HTML object>"
      ]
     },
     "execution_count": 12,
     "metadata": {},
     "output_type": "execute_result"
    }
   ],
   "source": [
    "HTML(\"\"\"\n",
    "<video width=\"960\" height=\"540\" controls>\n",
    "  <source src=\"{0}\">\n",
    "</video>\n",
    "\"\"\".format(yellow_output))"
   ]
  },
  {
   "cell_type": "markdown",
   "metadata": {
    "ein.tags": [
     "worksheet-0"
    ],
    "slideshow": {
     "slide_type": "-"
    }
   },
   "source": [
    "## Reflections\n",
    "\n",
    "Congratulations on finding the lane lines!  As the final step in this project, we would like you to share your thoughts on your lane finding pipeline... specifically, how could you imagine making your algorithm better / more robust?  Where will your current algorithm be likely to fail?\n",
    "\n",
    "Please add your thoughts below,  and if you're up for making your pipeline more robust, be sure to scroll down and check out the optional challenge video below!\n"
   ]
  },
  {
   "cell_type": "markdown",
   "metadata": {
    "ein.tags": [
     "worksheet-0"
    ],
    "slideshow": {
     "slide_type": "-"
    }
   },
   "source": [
    "## Submission\n",
    "\n",
    "If you're satisfied with your video outputs it's time to submit!  Submit this ipython notebook for review.\n"
   ]
  },
  {
   "cell_type": "markdown",
   "metadata": {
    "ein.tags": [
     "worksheet-0"
    ],
    "slideshow": {
     "slide_type": "-"
    }
   },
   "source": [
    "## Optional Challenge\n",
    "\n",
    "Try your lane finding pipeline on the video below.  Does it still work?  Can you figure out a way to make it more robust?  If you're up for the challenge, modify your pipeline so it works with this video and submit it along with the rest of your project!m"
   ]
  },
  {
   "cell_type": "code",
   "execution_count": 0,
   "metadata": {
    "autoscroll": "json-false",
    "collapsed": false,
    "ein.tags": [
     "worksheet-0"
    ],
    "slideshow": {
     "slide_type": "-"
    }
   },
   "outputs": [],
   "source": [
    "challenge_output = 'extra.mp4'\n",
    "clip2 = VideoFileClip('challenge.mp4')\n",
    "challenge_clip = clip2.fl_image(process_image)\n",
    "%time challenge_clip.write_videofile(challenge_output, audio=False)"
   ]
  },
  {
   "cell_type": "code",
   "execution_count": 0,
   "metadata": {
    "autoscroll": "json-false",
    "collapsed": false,
    "ein.tags": [
     "worksheet-0"
    ],
    "slideshow": {
     "slide_type": "-"
    }
   },
   "outputs": [],
   "source": [
    "HTML(\"\"\"\n",
    "<video width=\"960\" height=\"540\" controls>\n",
    "  <source src=\"{0}\">\n",
    "</video>\n",
    "\"\"\".format(challenge_output))"
   ]
  },
  {
   "cell_type": "code",
   "execution_count": 0,
   "metadata": {
    "autoscroll": "json-false",
    "collapsed": false,
    "ein.tags": [
     "worksheet-0"
    ],
    "slideshow": {
     "slide_type": "-"
    }
   },
   "outputs": [],
   "source": []
  }
 ],
 "metadata": {
  "anaconda-cloud": {},
  "kernelspec": {
   "display_name": "Python 3",
   "name": "python3"
  },
  "language_info": {
   "codemirror_mode": {
    "name": "ipython",
    "version": 3
   },
   "file_extension": ".py",
   "mimetype": "text/x-python",
   "name": "python",
   "nbconvert_exporter": "python",
   "pygments_lexer": "ipython3",
   "version": "3.5.2"
  },
  "name": "P1.ipynb"
 },
 "nbformat": 4,
 "nbformat_minor": 0
}
